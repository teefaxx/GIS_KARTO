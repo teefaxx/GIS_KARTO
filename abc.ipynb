{
 "cells": [
  {
   "cell_type": "code",
   "execution_count": 108,
   "metadata": {},
   "outputs": [],
   "source": [
    "import geopandas as gpd\n",
    "import pandas as pd\n",
    "import numpy as np\n",
    "import matplotlib.pyplot as plt\n",
    "pd.set_option('display.max_columns', None)"
   ]
  },
  {
   "cell_type": "code",
   "execution_count": 109,
   "metadata": {},
   "outputs": [],
   "source": [
    "df_ = gpd.read_file('/Users/Dario/Library/CloudStorage/OneDrive-ETHZurich/06_FS23/GIS Karto/map/master_acc_bike_pop_street_corr.geojson')"
   ]
  },
  {
   "cell_type": "code",
   "execution_count": 110,
   "metadata": {},
   "outputs": [],
   "source": [
    "keep_cols = ['BFSNR', 'YES_IN_PER', 'BIKE_STREET_PER', 'ACCIDENTS' ,'POP_TOTAL', 'ACCIDENTS_PER_100K', 'GMDNAME', 'BZNR', 'KTNR', 'geometry']"
   ]
  },
  {
   "cell_type": "code",
   "execution_count": 111,
   "metadata": {},
   "outputs": [],
   "source": [
    "base = df_[keep_cols]"
   ]
  },
  {
   "cell_type": "code",
   "execution_count": 157,
   "metadata": {},
   "outputs": [],
   "source": [
    "def plot_map(gdf, good_bike):    \n",
    "    # Set the figure size\n",
    "    gdf['VALUE'] = pd.Categorical(gdf['VALUE'])\n",
    "    \n",
    "    plt.figure(figsize=(1920,1080), dpi=3500)\n",
    "\n",
    "    # Plot the GeoDataFrame with 'VALUE' column as the color\n",
    "    gdf.plot(column='VALUE', cmap='coolwarm', legend=True)\n",
    "\n",
    "    # Add a title and axis labels\n",
    "    plt.title(f\"Map with good_bike = {good_bike}%\")\n",
    "    plt.xlabel('LON')\n",
    "    plt.ylabel(\"LAT\")\n",
    "\n",
    "    # Show the plot\n",
    "    plt.savefig(f'map/map_{np.round(good_bike,1)}.png', dpi=600)\n",
    "    plt.show()\n"
   ]
  },
  {
   "cell_type": "code",
   "execution_count": 158,
   "metadata": {},
   "outputs": [],
   "source": [
    "def comparison(df):\n",
    "    mean_yes = np.round(df.YES_IN_PER.mean(),1)\n",
    "    print(mean_yes)\n",
    "\n",
    "    velo = [0.0499,0.0538,0.07373,0.07689,0.06192,0.07163]\n",
    "    #https://www.prixvelo.ch/de/prix-velo-infrastruktur\n",
    "    #0.0499 Biel\n",
    "    #0.0538 Chur\n",
    "    #0.07373 Solothurn\n",
    "    #0.07689 Basel\n",
    "    #0.06192 Luzern\n",
    "    #0.07163 Bern\n",
    "    good_bike = np.mean(velo)\n",
    "    \n",
    "    #good_bike = df.BIKE_STREET_PER.quantile(0.66)\n",
    "    #good_bike = df.BIKE_STREET_PER.mean()\n",
    "\n",
    "    #df['VALUE'] = 0\n",
    "\n",
    "    # Use boolean indexing to set initial value of VALUE column\n",
    "    #df.loc[df.BIKE_STREET_PER >= good_bike, 'VALUE'] = 1\n",
    "    #df.loc[df.BIKE_STREET_PER < good_bike, 'VALUE'] = -1\n",
    "\n",
    "    # Use boolean indexing to update VALUE column based on conditions\n",
    "    df.loc[(df.BIKE_STREET_PER >= good_bike) & (df.YES_IN_PER >= mean_yes), 'VALUE'] = 2\n",
    "    df.loc[(df.BIKE_STREET_PER >= good_bike) & (df.YES_IN_PER < mean_yes), 'VALUE'] = 1\n",
    "    df.loc[(df.BIKE_STREET_PER < good_bike) & (df.YES_IN_PER >= mean_yes), 'VALUE'] = 0\n",
    "    df.loc[(df.BIKE_STREET_PER < good_bike) & (df.YES_IN_PER < mean_yes), 'VALUE'] = -1\n",
    "\n",
    "    \n",
    "\n",
    "    return df, round(good_bike*100, 2)\n"
   ]
  },
  {
   "cell_type": "code",
   "execution_count": 160,
   "metadata": {},
   "outputs": [
    {
     "name": "stdout",
     "output_type": "stream",
     "text": [
      "0.7\n"
     ]
    }
   ],
   "source": [
    "gdf = comparison(base)[0]\n",
    "#plot_map(comparison(base)[0], comparison(base)[1])"
   ]
  },
  {
   "cell_type": "code",
   "execution_count": 162,
   "metadata": {},
   "outputs": [
    {
     "name": "stderr",
     "output_type": "stream",
     "text": [
      "/Users/Dario/opt/anaconda3/envs/GTA22/lib/python3.9/site-packages/geopandas/geodataframe.py:1472: SettingWithCopyWarning: \n",
      "A value is trying to be set on a copy of a slice from a DataFrame.\n",
      "Try using .loc[row_indexer,col_indexer] = value instead\n",
      "\n",
      "See the caveats in the documentation: https://pandas.pydata.org/pandas-docs/stable/user_guide/indexing.html#returning-a-view-versus-a-copy\n",
      "  super().__setitem__(key, value)\n"
     ]
    }
   ],
   "source": [
    "gdf.VALUE = gdf.VALUE.astype(int)"
   ]
  },
  {
   "cell_type": "code",
   "execution_count": 164,
   "metadata": {},
   "outputs": [],
   "source": [
    "gdf.to_file('map/values_6.5.geojson', driver='GeoJSON')"
   ]
  },
  {
   "cell_type": "code",
   "execution_count": null,
   "metadata": {},
   "outputs": [],
   "source": []
  },
  {
   "cell_type": "code",
   "execution_count": null,
   "metadata": {},
   "outputs": [],
   "source": []
  },
  {
   "cell_type": "code",
   "execution_count": 64,
   "metadata": {},
   "outputs": [],
   "source": [
    "def comparison_chat(df, good_bike):\n",
    "    mean_yes = df.YES_IN_PER.mean()\n",
    "    #good_bike = np.round(0.06581, 2)\n",
    "\n",
    "    # Use boolean indexing to set initial value of VALUE column\n",
    "    df.loc[df.BIKE_STREET_PER >= good_bike, 'VALUE'] = 1\n",
    "    #df.loc[df.BIKE_STREET_PER < good_bike, 'VALUE'] = -1\n",
    "\n",
    "    # Use boolean indexing to update VALUE column based on conditions\n",
    "    df.loc[(df.BIKE_STREET_PER >= good_bike) & (df.YES_IN_PER >= mean_yes), 'VALUE'] += 1\n",
    "    df.loc[(df.BIKE_STREET_PER < good_bike) & (df.YES_IN_PER < mean_yes), 'VALUE'] -= 1\n",
    "\n",
    "    return df\n"
   ]
  },
  {
   "cell_type": "code",
   "execution_count": null,
   "metadata": {},
   "outputs": [],
   "source": [
    "def compariso_chat(df):\n",
    "    mean_yes = df.YES_IN_PER.mean()\n",
    "    good_bike = np.round(0.06581, 2)\n",
    "\n",
    "    # Use boolean indexing to set initial value of VALUE column\n",
    "    df.loc[df.BIKE_STREET_PER >= good_bike, 'VALUE'] = 1\n",
    "    df.loc[df.BIKE_STREET_PER < good_bike, 'VALUE'] = -1\n",
    "\n",
    "    # Use boolean indexing to update VALUE column based on conditions\n",
    "    df.loc[(df.BIKE_STREET_PER >= good_bike) & (df.YES_IN_PER >= mean_yes), 'VALUE'] += 1\n",
    "    df.loc[(df.BIKE_STREET_PER < good_bike) & (df.YES_IN_PER < mean_yes), 'VALUE'] -= 1\n",
    "\n",
    "    return df\n"
   ]
  }
 ],
 "metadata": {
  "kernelspec": {
   "display_name": "GTA22",
   "language": "python",
   "name": "python3"
  },
  "language_info": {
   "codemirror_mode": {
    "name": "ipython",
    "version": 3
   },
   "file_extension": ".py",
   "mimetype": "text/x-python",
   "name": "python",
   "nbconvert_exporter": "python",
   "pygments_lexer": "ipython3",
   "version": "3.9.13"
  },
  "orig_nbformat": 4
 },
 "nbformat": 4,
 "nbformat_minor": 2
}
