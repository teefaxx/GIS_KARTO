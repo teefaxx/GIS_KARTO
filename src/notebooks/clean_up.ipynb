{
 "cells": [
  {
   "cell_type": "code",
   "execution_count": 1,
   "metadata": {},
   "outputs": [],
   "source": [
    "import pandas as pd\n",
    "import geopandas as gpd"
   ]
  },
  {
   "cell_type": "code",
   "execution_count": 34,
   "metadata": {},
   "outputs": [],
   "source": [
    "dtypes = {\n",
    "    'ELEGIBLE_VOTERS' : int,\n",
    "    'TOT_VOTES' :     int,\n",
    "    'PART_PERCENT' :  float,\n",
    "    'VALID_VOTES' :   'int',\n",
    "    'YES' :           'int64',\n",
    "    'NO' :            'int64',\n",
    "    'YES_IN_PER' :    'float64',\n",
    "    'KTNR' :    'float64'\n",
    "}"
   ]
  },
  {
   "cell_type": "code",
   "execution_count": 35,
   "metadata": {},
   "outputs": [],
   "source": [
    "df  = gpd.read_file('master_w_bikes.geojson', driver='GeoJSON', dtype=dtypes)"
   ]
  },
  {
   "cell_type": "code",
   "execution_count": 103,
   "metadata": {},
   "outputs": [],
   "source": [
    "def read_population():\n",
    "    results = pd.read_excel('/Users/Dario/Documents/GitHub/GIS_KARTO/data/bevoelkerung/bev.xlsx',\n",
    "                            sheet_name='data', header=3)\n",
    "    results = results.dropna(axis=0)\n",
    "\n",
    "    df = results.loc[~results['GMDNAME'].str.startswith('>>')]\n",
    "    df = df.loc[~df['GMDNAME'].str.startswith('-')]\n",
    "    df['GMDNAME'] = df['GMDNAME'].str[6:]\n",
    "    df['GMDNAME'] = df['GMDNAME'].str[:4]\n",
    "    df = df.drop(index=0)\n",
    "    df = df.reset_index(drop=True)\n",
    "    df['BFS'] = df['GMDNAME'].astype(int)\n",
    "\n",
    "    return df"
   ]
  },
  {
   "cell_type": "code",
   "execution_count": 104,
   "metadata": {},
   "outputs": [],
   "source": [
    "population = read_population()"
   ]
  },
  {
   "cell_type": "code",
   "execution_count": 105,
   "metadata": {},
   "outputs": [],
   "source": [
    "rename_cols = {\n",
    "    'BFS':'BFSNR',\n",
    "    'Total':'POP_TOTAL',\n",
    "    'Total.1':'POP_CH_TOTAL',\n",
    "    'Total.2':'POP_FOREIGN_TOTAL',\n",
    "}\n",
    "\n",
    "drop_cols = ['GMDNAME','Mann', 'Frau', 'Mann.1', 'Frau.1', 'Mann.2', 'Frau.2']"
   ]
  },
  {
   "cell_type": "code",
   "execution_count": 106,
   "metadata": {},
   "outputs": [],
   "source": [
    "population = population.rename(columns=rename_cols)\n",
    "population = population.drop(columns=drop_cols)\n",
    "population = population.reindex(columns=['BFSNR', 'POP_TOTAL', 'POP_CH_TOTAL', 'POP_FOREIGN_TOTAL'])"
   ]
  },
  {
   "cell_type": "code",
   "execution_count": 108,
   "metadata": {},
   "outputs": [],
   "source": [
    "df = df.merge(population, on='BFSNR', how='left')"
   ]
  },
  {
   "cell_type": "code",
   "execution_count": 110,
   "metadata": {},
   "outputs": [],
   "source": [
    "df.to_file('master_table.geojson', driver='GeoJSON')"
   ]
  },
  {
   "cell_type": "code",
   "execution_count": null,
   "metadata": {},
   "outputs": [],
   "source": []
  }
 ],
 "metadata": {
  "kernelspec": {
   "display_name": "GTA22",
   "language": "python",
   "name": "python3"
  },
  "language_info": {
   "codemirror_mode": {
    "name": "ipython",
    "version": 3
   },
   "file_extension": ".py",
   "mimetype": "text/x-python",
   "name": "python",
   "nbconvert_exporter": "python",
   "pygments_lexer": "ipython3",
   "version": "3.9.13"
  },
  "orig_nbformat": 4
 },
 "nbformat": 4,
 "nbformat_minor": 2
}
