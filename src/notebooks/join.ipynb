{
 "cells": [
  {
   "cell_type": "code",
   "execution_count": 1,
   "metadata": {},
   "outputs": [],
   "source": [
    "import geopandas as gpd\n",
    "import pandas as pd\n",
    "import os"
   ]
  },
  {
   "cell_type": "code",
   "execution_count": null,
   "metadata": {},
   "outputs": [],
   "source": [
    "dtypes= {\n",
    "    'GMDNR':'int32',\n",
    "    'Stimmberechtigte':'int32',\n",
    "    'Abgegebene'\n",
    "}"
   ]
  },
  {
   "cell_type": "code",
   "execution_count": 5,
   "metadata": {},
   "outputs": [],
   "source": [
    "master = gpd.read_file('../export/master/master_with_acc.geojson')\n",
    "bike = pd.read_csv('../export/master/sum_bikes.csv', sep=';')"
   ]
  },
  {
   "cell_type": "code",
   "execution_count": 14,
   "metadata": {},
   "outputs": [],
   "source": [
    "bike = bike.rename(columns={'BFS': 'GMDNR', 'SUM_Shape_Length': 'SUM_LENGTH'})"
   ]
  },
  {
   "cell_type": "code",
   "execution_count": 17,
   "metadata": {},
   "outputs": [],
   "source": [
    "master = master.merge(bike, how='left')"
   ]
  },
  {
   "cell_type": "code",
   "execution_count": 21,
   "metadata": {},
   "outputs": [],
   "source": [
    "master = master.rename(columns={'GMDNR':'BFSNR','GMDNAME_x': 'GMDNAME', 'Stimmberechtigte' : 'ELEGIBLE_VOTERS', 'Abgegebene Stimmen' : 'TOT_VOTES', 'Beteiligung in %':'PART_PERCENT' , 'Ja in %' : 'YES_IN_PER','Gültige Stimmzettel':'VALID_VOTES','Ja':'YES', 'Nein':'NO','smaller_2':'ACC_2','2_to_5':'ACC_2_5','5_to_10':'ACC_5_10', 'FREQUENCY': 'SUM_FREQ'})"
   ]
  },
  {
   "cell_type": "code",
   "execution_count": 23,
   "metadata": {},
   "outputs": [],
   "source": [
    "master = master.drop(columns='GMDNAME_y', axis=1)"
   ]
  },
  {
   "cell_type": "code",
   "execution_count": 29,
   "metadata": {},
   "outputs": [],
   "source": [
    "master['YES_IN_PER'] = master['YES_IN_PER'].fillna(-1)"
   ]
  },
  {
   "cell_type": "code",
   "execution_count": 41,
   "metadata": {},
   "outputs": [],
   "source": [
    "master.to_file('master_w_bikes.geojosn', driver='GeoJSON',index=False)"
   ]
  }
 ],
 "metadata": {
  "kernelspec": {
   "display_name": "GTA22",
   "language": "python",
   "name": "python3"
  },
  "language_info": {
   "codemirror_mode": {
    "name": "ipython",
    "version": 3
   },
   "file_extension": ".py",
   "mimetype": "text/x-python",
   "name": "python",
   "nbconvert_exporter": "python",
   "pygments_lexer": "ipython3",
   "version": "3.9.13"
  },
  "orig_nbformat": 4
 },
 "nbformat": 4,
 "nbformat_minor": 2
}
