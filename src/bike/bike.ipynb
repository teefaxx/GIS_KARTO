{
 "cells": [
  {
   "cell_type": "code",
   "execution_count": 58,
   "metadata": {},
   "outputs": [],
   "source": [
    "import pandas as pd\n",
    "import geopandas as gpd\n",
    "import os"
   ]
  },
  {
   "cell_type": "markdown",
   "metadata": {},
   "source": [
    "## OSM DATA"
   ]
  },
  {
   "cell_type": "code",
   "execution_count": 59,
   "metadata": {},
   "outputs": [],
   "source": [
    "osm_data = gpd.read_file('../../data/OSM_new/switzerland-latest-free.shp/gis_osm_roads_free_1.shp') #Read file \n"
   ]
  },
  {
   "cell_type": "code",
   "execution_count": 60,
   "metadata": {},
   "outputs": [],
   "source": [
    "osm_data = osm_data[osm_data['code'] == 5152] # Filter for cycleways "
   ]
  },
  {
   "cell_type": "code",
   "execution_count": 61,
   "metadata": {},
   "outputs": [],
   "source": [
    "osm_data = osm_data.to_crs('epsg:2056') # Change to LV95"
   ]
  },
  {
   "cell_type": "code",
   "execution_count": 62,
   "metadata": {},
   "outputs": [],
   "source": [
    "keep_cols_osm = ['osm_id', 'code', 'geometry']\n",
    "osm_data = osm_data.drop(columns=[col for col in osm_data.columns if col not in keep_cols_osm]) #Filter Cols\n",
    "osm_data = osm_data.rename(columns={'osm_id': 'OBJECTID'})"
   ]
  },
  {
   "cell_type": "markdown",
   "metadata": {},
   "source": [
    "## Veloland Data"
   ]
  },
  {
   "cell_type": "code",
   "execution_count": 63,
   "metadata": {},
   "outputs": [],
   "source": [
    "veloland = gpd.read_file('../../data/Velo/veloland_2056.shp/Weg.shp', geometry='geometry', crs='epsg:2056') #Read data"
   ]
  },
  {
   "cell_type": "code",
   "execution_count": 64,
   "metadata": {},
   "outputs": [],
   "source": [
    "keep_cols = ['OBJECTID', 'SHAPE_Leng', 'Change_Dt', 'geometry']\n",
    "veloland = veloland.drop(columns=[col for col in veloland.columns if col not in keep_cols]) #Filter Cols"
   ]
  },
  {
   "attachments": {},
   "cell_type": "markdown",
   "metadata": {},
   "source": [
    "## Concat Data "
   ]
  },
  {
   "cell_type": "code",
   "execution_count": 80,
   "metadata": {},
   "outputs": [],
   "source": [
    "gdf = pd.concat([osm_data, veloland])"
   ]
  },
  {
   "cell_type": "code",
   "execution_count": null,
   "metadata": {},
   "outputs": [],
   "source": []
  }
 ],
 "metadata": {
  "kernelspec": {
   "display_name": "GTA22",
   "language": "python",
   "name": "python3"
  },
  "language_info": {
   "codemirror_mode": {
    "name": "ipython",
    "version": 3
   },
   "file_extension": ".py",
   "mimetype": "text/x-python",
   "name": "python",
   "nbconvert_exporter": "python",
   "pygments_lexer": "ipython3",
   "version": "3.9.13"
  },
  "orig_nbformat": 4,
  "vscode": {
   "interpreter": {
    "hash": "995ae4e88bab58009143627a0da8a0a090d24bba7fd68cd4076ee64e587ede57"
   }
  }
 },
 "nbformat": 4,
 "nbformat_minor": 2
}
