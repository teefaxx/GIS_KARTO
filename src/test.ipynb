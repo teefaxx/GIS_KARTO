{
 "cells": [
  {
   "cell_type": "code",
   "execution_count": 1,
   "metadata": {},
   "outputs": [],
   "source": [
    "import geopandas as gpd"
   ]
  },
  {
   "cell_type": "code",
   "execution_count": 2,
   "metadata": {},
   "outputs": [],
   "source": [
    "def count_accs(master, accidents):\n",
    "    joined = gpd.sjoin(master, accidents, op='contains')\n",
    "\n",
    "    # Count the number of accidents within each polygon\n",
    "    counts = joined.groupby('GMDNR').size().reset_index(name='ACCIDENTS')\n",
    "\n",
    "    # Merge the counts back into the master GeoDataFrame\n",
    "    master = master.merge(counts, on='GMDNR', how='left')\n",
    "\n",
    "    master = master.drop(columns='ACCIDENTS_x', axis=1)\n",
    "    master = master.rename(columns={'ACCIDENTS_y': 'ACCIDENTS'})\n",
    "\n",
    "    return master"
   ]
  },
  {
   "cell_type": "code",
   "execution_count": null,
   "metadata": {},
   "outputs": [],
   "source": [
    "master = gpd.read_file('../export/master/master_with_accidents.geojson')"
   ]
  }
 ],
 "metadata": {
  "kernelspec": {
   "display_name": "GTA22",
   "language": "python",
   "name": "python3"
  },
  "language_info": {
   "codemirror_mode": {
    "name": "ipython",
    "version": 3
   },
   "file_extension": ".py",
   "mimetype": "text/x-python",
   "name": "python",
   "nbconvert_exporter": "python",
   "pygments_lexer": "ipython3",
   "version": "3.9.13"
  },
  "orig_nbformat": 4
 },
 "nbformat": 4,
 "nbformat_minor": 2
}
