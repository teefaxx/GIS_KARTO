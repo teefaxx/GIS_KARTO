{
 "cells": [
  {
   "cell_type": "code",
   "execution_count": 293,
   "metadata": {},
   "outputs": [],
   "source": [
    "import geopandas as gpd\n",
    "import pandas as pd\n",
    "from shapely.geometry import Point\n",
    "from shapely.ops import nearest_points\n",
    "import numpy as np\n",
    "\n",
    "#pd.set_option('display.max_columns', None)"
   ]
  },
  {
   "cell_type": "code",
   "execution_count": 294,
   "metadata": {},
   "outputs": [],
   "source": [
    "master = gpd.read_file('export/master.geojson')\n",
    "accidents = gpd.read_file('export/accidents/accidents.geojson')"
   ]
  },
  {
   "cell_type": "code",
   "execution_count": 295,
   "metadata": {},
   "outputs": [
    {
     "name": "stderr",
     "output_type": "stream",
     "text": [
      "/Users/Dario/opt/anaconda3/envs/GTA22/lib/python3.9/site-packages/pandas/core/dtypes/cast.py:127: ShapelyDeprecationWarning: The array interface is deprecated and will no longer work in Shapely 2.0. Convert the '.coords' to a numpy array instead.\n",
      "  arr = construct_1d_object_array_from_listlike(values)\n"
     ]
    }
   ],
   "source": [
    "master['GDE_CNTR'] = master.apply(lambda row: Point(row['E_CNTR'], row['N_CNTR']), axis=1)"
   ]
  },
  {
   "cell_type": "code",
   "execution_count": 296,
   "metadata": {},
   "outputs": [],
   "source": [
    "master['smaller_2'] = 0\n",
    "master['2_to_5'] = 0\n",
    "master['5_to_10'] = 0"
   ]
  },
  {
   "cell_type": "code",
   "execution_count": 297,
   "metadata": {},
   "outputs": [],
   "source": [
    "mas = master\n",
    "acc = accidents"
   ]
  },
  {
   "cell_type": "code",
   "execution_count": 298,
   "metadata": {},
   "outputs": [],
   "source": [
    "import numpy as np\n",
    "import geopandas as gpd\n",
    "\n",
    "def calc_distance_vectorized(gdf1, gdf2):\n",
    "    return gdf1.geometry.apply(lambda x: gdf2.distance(x))\n",
    "\n",
    "def vectorized(mas, acc):\n",
    "    # calculate distances between mas and acc geometries using the vectorized function\n",
    "    distances = calc_distance_vectorized(mas, acc)\n",
    "\n",
    "    # count the number of distances that fall into each distance category using boolean indexing\n",
    "    mas['smaller_2'] = (distances < 2000).sum(axis=1)\n",
    "    mas['2_to_5'] = ((distances >= 2000) & (distances < 5000)).sum(axis=1)\n",
    "    mas['5_to_10'] = ((distances >= 5000) & (distances < 10000)).sum(axis=1)\n",
    "\n",
    "    return mas\n"
   ]
  },
  {
   "cell_type": "code",
   "execution_count": 291,
   "metadata": {},
   "outputs": [],
   "source": [
    "def calc_distance(p1, p2):\n",
    "    return p1.distance(p2)\n",
    "\n",
    "def for_loop(mas, acc):\n",
    "    for i, row1 in mas.iterrows():\n",
    "        for j, row2 in acc.iterrows():\n",
    "            dist = calc_distance(row1.GDE_CNTR, row2.geometry)\n",
    "            if dist < 2000:\n",
    "                mas.at[i, 'smaller_2'] += 1\n",
    "            elif dist < 5000:\n",
    "                mas.at[i, '2_to_5'] += 1\n",
    "            elif dist < 10000:\n",
    "                mas.at[i, '5_to_10'] += 1\n",
    "            else:\n",
    "                pass\n",
    "    return mas"
   ]
  },
  {
   "cell_type": "code",
   "execution_count": 299,
   "metadata": {},
   "outputs": [],
   "source": [
    "vector = vectorized(mas, acc)\n",
    "#for_l = for_loop(mas, acc)"
   ]
  },
  {
   "cell_type": "code",
   "execution_count": 300,
   "metadata": {},
   "outputs": [],
   "source": [
    "vector = vector.drop(columns='GDE_CNTR', axis=1)\n",
    "#for_l = for_l.drop(columns='GDE_CNTR', axis=1)"
   ]
  },
  {
   "cell_type": "code",
   "execution_count": 302,
   "metadata": {},
   "outputs": [],
   "source": [
    "vector.to_file('export/master_with_acc.geojson', driver='GeoJSON')\n",
    "#for_l.to_file('for.geojson', driver='GeoJSON')"
   ]
  },
  {
   "cell_type": "code",
   "execution_count": null,
   "metadata": {},
   "outputs": [],
   "source": []
  }
 ],
 "metadata": {
  "kernelspec": {
   "display_name": "GTA22",
   "language": "python",
   "name": "python3"
  },
  "language_info": {
   "codemirror_mode": {
    "name": "ipython",
    "version": 3
   },
   "file_extension": ".py",
   "mimetype": "text/x-python",
   "name": "python",
   "nbconvert_exporter": "python",
   "pygments_lexer": "ipython3",
   "version": "3.9.13"
  },
  "orig_nbformat": 4,
  "vscode": {
   "interpreter": {
    "hash": "995ae4e88bab58009143627a0da8a0a090d24bba7fd68cd4076ee64e587ede57"
   }
  }
 },
 "nbformat": 4,
 "nbformat_minor": 2
}
