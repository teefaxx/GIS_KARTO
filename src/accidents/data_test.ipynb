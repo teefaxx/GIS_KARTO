{
 "cells": [
  {
   "cell_type": "code",
   "execution_count": 35,
   "metadata": {},
   "outputs": [],
   "source": [
    "import pandas as pd\n",
    "import geopandas as gpd\n",
    "from shapely import wkt\n",
    "import os\n",
    "\n",
    "\n",
    "pd.set_option('display.max_columns', None)"
   ]
  },
  {
   "attachments": {},
   "cell_type": "markdown",
   "metadata": {},
   "source": [
    "## Accidents\n",
    "### Read in Accidents DF"
   ]
  },
  {
   "cell_type": "code",
   "execution_count": 36,
   "metadata": {},
   "outputs": [],
   "source": [
    "df = gpd.read_file('/Users/Dario/Documents/GitHub/GIS_KARTO/data/accidents.json')\n",
    "\n",
    "keep_cols = ['AccidentType_de', 'AccidentSeverityCategory_de', 'AccidentInvolvingPedestrian', 'AccidentInvolvingBicycle', 'RoadType_de', 'AccidentLocation_CHLV95_E', 'AccidentLocation_CHLV95_N', 'CantonCode', 'AccidentYear', 'AccidentMonth', 'geometry' ]"
   ]
  },
  {
   "cell_type": "code",
   "execution_count": 37,
   "metadata": {},
   "outputs": [],
   "source": [
    "gdf = df.drop(columns=[col for col in df.columns if col not in keep_cols])"
   ]
  },
  {
   "cell_type": "code",
   "execution_count": 38,
   "metadata": {},
   "outputs": [],
   "source": [
    "# Typechange of DF\n",
    "\n",
    "gdf['AccidentInvolvingBicycle'] = gdf['AccidentInvolvingBicycle'].str.lower().map({'true': True, 'false': False})\n",
    "gdf['AccidentInvolvingPedestrian'] = gdf['AccidentInvolvingPedestrian'].str.lower().map({'true': True, 'false': False})\n",
    "gdf.AccidentYear = gdf.AccidentYear.astype(int)\n",
    "gdf.AccidentMonth = gdf.AccidentMonth.astype(int)\n",
    "gdf.AccidentLocation_CHLV95_E = gdf.AccidentLocation_CHLV95_E.astype(int)\n",
    "gdf.AccidentLocation_CHLV95_N = gdf.AccidentLocation_CHLV95_N.astype(int)\n",
    "\n"
   ]
  },
  {
   "cell_type": "code",
   "execution_count": 39,
   "metadata": {},
   "outputs": [],
   "source": [
    "# Filtering DF\n",
    "#gdf = gdf[gdf['AccidentYear'] <= 2018]\n",
    "gdf = gdf[(gdf['AccidentMonth'] <= 9) & (gdf['AccidentYear'] <= 2018)]\n",
    "gdf = gdf[gdf['AccidentInvolvingBicycle']]"
   ]
  },
  {
   "cell_type": "code",
   "execution_count": 41,
   "metadata": {},
   "outputs": [],
   "source": [
    "gdf = gdf.set_crs(gdf.crs)\n",
    "\n",
    "geometry = gpd.points_from_xy(gdf['AccidentLocation_CHLV95_E'], gdf['AccidentLocation_CHLV95_N'], crs='epsg:2056')\n",
    "\n",
    "gdf.geometry = geometry"
   ]
  },
  {
   "cell_type": "code",
   "execution_count": 45,
   "metadata": {},
   "outputs": [],
   "source": [
    "#gdf.to_file('../../export/accidents/accidents.geojson', index=False)"
   ]
  },
  {
   "attachments": {},
   "cell_type": "markdown",
   "metadata": {},
   "source": [
    "## Master Table"
   ]
  },
  {
   "cell_type": "code",
   "execution_count": 7,
   "metadata": {},
   "outputs": [],
   "source": [
    "# Read MasterTable \n",
    "master_table = gpd.read_file('../../export/master.geojson')\n",
    "#master_table = pd.read_csv('../../export/master.geojson', sep=',')\n",
    "#master_table['geometry'] = master_table['geometry'].apply(wkt.loads)\n",
    "#master = gpd.GeoDataFrame(master_table, geometry='geometry')"
   ]
  },
  {
   "cell_type": "code",
   "execution_count": 16,
   "metadata": {},
   "outputs": [
    {
     "data": {
      "text/plain": [
       "<Derived Projected CRS: EPSG:2056>\n",
       "Name: CH1903+ / LV95\n",
       "Axis Info [cartesian]:\n",
       "- E[east]: Easting (metre)\n",
       "- N[north]: Northing (metre)\n",
       "Area of Use:\n",
       "- name: Liechtenstein; Switzerland.\n",
       "- bounds: (5.96, 45.82, 10.49, 47.81)\n",
       "Coordinate Operation:\n",
       "- name: Swiss Oblique Mercator 1995\n",
       "- method: Hotine Oblique Mercator (variant B)\n",
       "Datum: CH1903+\n",
       "- Ellipsoid: Bessel 1841\n",
       "- Prime Meridian: Greenwich"
      ]
     },
     "execution_count": 16,
     "metadata": {},
     "output_type": "execute_result"
    }
   ],
   "source": [
    "master_table.crs"
   ]
  },
  {
   "attachments": {},
   "cell_type": "markdown",
   "metadata": {},
   "source": [
    "## Compare Accidents with Master Table"
   ]
  },
  {
   "cell_type": "code",
   "execution_count": 17,
   "metadata": {},
   "outputs": [],
   "source": [
    "from geopandas.tools import sjoin\n",
    "from shapely.geometry import Point, Polygon"
   ]
  },
  {
   "cell_type": "code",
   "execution_count": 18,
   "metadata": {},
   "outputs": [],
   "source": [
    "gdf = gdf.set_crs(gdf.crs)\n",
    "\n",
    "geometry = gpd.points_from_xy(gdf['AccidentLocation_CHLV95_E'], gdf['AccidentLocation_CHLV95_N'], crs='epsg:2056')\n",
    "\n",
    "gdf.geometry = geometry"
   ]
  },
  {
   "cell_type": "code",
   "execution_count": 19,
   "metadata": {},
   "outputs": [],
   "source": [
    "# Load the GeoDataFrames\n",
    "polygons_gdf = master_table #resulate df\n",
    "points_gdf = gdf #acc df"
   ]
  },
  {
   "cell_type": "code",
   "execution_count": 20,
   "metadata": {},
   "outputs": [],
   "source": [
    "# Subset for faster computation\n",
    "small_poly = polygons_gdf\n",
    "small_point = points_gdf"
   ]
  },
  {
   "cell_type": "code",
   "execution_count": 21,
   "metadata": {},
   "outputs": [],
   "source": [
    "# Perform the spatial join\n",
    "#joined_gdf = sjoin(small_point, small_poly, op='within')\n",
    "\n",
    "# Count the number of points per polygon and create a new column in the polygons GeoDataFrame\n",
    "#acc_count = joined_gdf.groupby('index_right').size().reset_index(name='Acc_Count')\n",
    "#small_poly = small_poly.merge(acc_count, on='index_right', how='left')\n"
   ]
  },
  {
   "cell_type": "code",
   "execution_count": 22,
   "metadata": {},
   "outputs": [],
   "source": [
    "small_poly['Acc_Count'] = 0"
   ]
  },
  {
   "cell_type": "code",
   "execution_count": 23,
   "metadata": {},
   "outputs": [
    {
     "name": "stdout",
     "output_type": "stream",
     "text": [
      "epsg:2056 epsg:2056\n"
     ]
    }
   ],
   "source": [
    "print(small_poly.crs, small_point.crs)"
   ]
  },
  {
   "cell_type": "code",
   "execution_count": 26,
   "metadata": {},
   "outputs": [
    {
     "name": "stderr",
     "output_type": "stream",
     "text": [
      "/Users/Dario/opt/anaconda3/envs/GTA22/lib/python3.9/site-packages/IPython/core/interactiveshell.py:3472: FutureWarning: The `op` parameter is deprecated and will be removed in a future release. Please use the `predicate` parameter instead.\n",
      "  if (await self.run_code(code, result,  async_=asy)):\n"
     ]
    }
   ],
   "source": [
    "import geopandas as gpd\n",
    "\n",
    "# perform spatial join to get points within polygons\n",
    "joined = gpd.sjoin(small_point, small_poly, op='within')\n",
    "\n",
    "# groupby polygon index and count number of points for each polygon\n",
    "counts = joined.groupby('index_right').size()\n",
    "\n",
    "# update small_poly with the point counts\n",
    "small_poly['Acc_Count'] = counts\n"
   ]
  },
  {
   "cell_type": "code",
   "execution_count": 34,
   "metadata": {},
   "outputs": [
    {
     "data": {
      "text/html": [
       "<div>\n",
       "<style scoped>\n",
       "    .dataframe tbody tr th:only-of-type {\n",
       "        vertical-align: middle;\n",
       "    }\n",
       "\n",
       "    .dataframe tbody tr th {\n",
       "        vertical-align: top;\n",
       "    }\n",
       "\n",
       "    .dataframe thead th {\n",
       "        text-align: right;\n",
       "    }\n",
       "</style>\n",
       "<table border=\"1\" class=\"dataframe\">\n",
       "  <thead>\n",
       "    <tr style=\"text-align: right;\">\n",
       "      <th></th>\n",
       "      <th>GMDNR</th>\n",
       "      <th>GMDNAME_x</th>\n",
       "      <th>Stimmberechtigte</th>\n",
       "      <th>Abgegebene Stimmen</th>\n",
       "      <th>Beteiligung in %</th>\n",
       "      <th>Gültige Stimmzettel</th>\n",
       "      <th>Ja</th>\n",
       "      <th>Nein</th>\n",
       "      <th>Ja in %</th>\n",
       "      <th>GMDNAME_y</th>\n",
       "      <th>BZNR</th>\n",
       "      <th>KTNR</th>\n",
       "      <th>E_CNTR</th>\n",
       "      <th>N_CNTR</th>\n",
       "      <th>geometry</th>\n",
       "      <th>Acc_Count</th>\n",
       "    </tr>\n",
       "  </thead>\n",
       "  <tbody>\n",
       "    <tr>\n",
       "      <th>0</th>\n",
       "      <td>1</td>\n",
       "      <td>Aeugst am Albis</td>\n",
       "      <td>1402</td>\n",
       "      <td>664</td>\n",
       "      <td>47.36</td>\n",
       "      <td>663</td>\n",
       "      <td>481</td>\n",
       "      <td>182</td>\n",
       "      <td>72.55</td>\n",
       "      <td>Aeugst am Albis</td>\n",
       "      <td>101</td>\n",
       "      <td>1</td>\n",
       "      <td>2679300</td>\n",
       "      <td>1235700</td>\n",
       "      <td>POLYGON ((2678219.000 1235219.000, 2678439.000...</td>\n",
       "      <td>2.0</td>\n",
       "    </tr>\n",
       "    <tr>\n",
       "      <th>1</th>\n",
       "      <td>2</td>\n",
       "      <td>Affoltern am Albis</td>\n",
       "      <td>7186</td>\n",
       "      <td>2880</td>\n",
       "      <td>40.08</td>\n",
       "      <td>2850</td>\n",
       "      <td>2079</td>\n",
       "      <td>771</td>\n",
       "      <td>72.95</td>\n",
       "      <td>Affoltern am Albis</td>\n",
       "      <td>101</td>\n",
       "      <td>1</td>\n",
       "      <td>2676800</td>\n",
       "      <td>1236800</td>\n",
       "      <td>POLYGON ((2678219.000 1235219.000, 2677940.000...</td>\n",
       "      <td>36.0</td>\n",
       "    </tr>\n",
       "    <tr>\n",
       "      <th>2</th>\n",
       "      <td>3</td>\n",
       "      <td>Bonstetten</td>\n",
       "      <td>3656</td>\n",
       "      <td>1701</td>\n",
       "      <td>46.53</td>\n",
       "      <td>1691</td>\n",
       "      <td>1251</td>\n",
       "      <td>440</td>\n",
       "      <td>73.98</td>\n",
       "      <td>Bonstetten</td>\n",
       "      <td>101</td>\n",
       "      <td>1</td>\n",
       "      <td>2677800</td>\n",
       "      <td>1241000</td>\n",
       "      <td>POLYGON ((2675803.000 1241039.000, 2675748.000...</td>\n",
       "      <td>11.0</td>\n",
       "    </tr>\n",
       "    <tr>\n",
       "      <th>3</th>\n",
       "      <td>4</td>\n",
       "      <td>Hausen am Albis</td>\n",
       "      <td>2505</td>\n",
       "      <td>1145</td>\n",
       "      <td>45.71</td>\n",
       "      <td>1132</td>\n",
       "      <td>802</td>\n",
       "      <td>330</td>\n",
       "      <td>70.84999999999999</td>\n",
       "      <td>Hausen am Albis</td>\n",
       "      <td>101</td>\n",
       "      <td>1</td>\n",
       "      <td>2682900</td>\n",
       "      <td>1233100</td>\n",
       "      <td>POLYGON ((2686324.000 1230388.000, 2686024.000...</td>\n",
       "      <td>11.0</td>\n",
       "    </tr>\n",
       "    <tr>\n",
       "      <th>4</th>\n",
       "      <td>5</td>\n",
       "      <td>Hedingen</td>\n",
       "      <td>2515</td>\n",
       "      <td>1183</td>\n",
       "      <td>47.04</td>\n",
       "      <td>1178</td>\n",
       "      <td>876</td>\n",
       "      <td>302</td>\n",
       "      <td>74.36</td>\n",
       "      <td>Hedingen</td>\n",
       "      <td>101</td>\n",
       "      <td>1</td>\n",
       "      <td>2676400</td>\n",
       "      <td>1239000</td>\n",
       "      <td>POLYGON ((2675803.000 1241039.000, 2676538.000...</td>\n",
       "      <td>5.0</td>\n",
       "    </tr>\n",
       "    <tr>\n",
       "      <th>...</th>\n",
       "      <td>...</td>\n",
       "      <td>...</td>\n",
       "      <td>...</td>\n",
       "      <td>...</td>\n",
       "      <td>...</td>\n",
       "      <td>...</td>\n",
       "      <td>...</td>\n",
       "      <td>...</td>\n",
       "      <td>...</td>\n",
       "      <td>...</td>\n",
       "      <td>...</td>\n",
       "      <td>...</td>\n",
       "      <td>...</td>\n",
       "      <td>...</td>\n",
       "      <td>...</td>\n",
       "      <td>...</td>\n",
       "    </tr>\n",
       "    <tr>\n",
       "      <th>2131</th>\n",
       "      <td>6806</td>\n",
       "      <td>Vendlincourt</td>\n",
       "      <td>472</td>\n",
       "      <td>139</td>\n",
       "      <td>29.45</td>\n",
       "      <td>134</td>\n",
       "      <td>97</td>\n",
       "      <td>37</td>\n",
       "      <td>72.39</td>\n",
       "      <td>Vendlincourt</td>\n",
       "      <td>2603</td>\n",
       "      <td>26</td>\n",
       "      <td>2578200</td>\n",
       "      <td>1255600</td>\n",
       "      <td>POLYGON ((2580412.000 1257077.000, 2580367.000...</td>\n",
       "      <td>1.0</td>\n",
       "    </tr>\n",
       "    <tr>\n",
       "      <th>2132</th>\n",
       "      <td>6807</td>\n",
       "      <td>Basse-Allaine</td>\n",
       "      <td>951</td>\n",
       "      <td>264</td>\n",
       "      <td>27.76</td>\n",
       "      <td>260</td>\n",
       "      <td>191</td>\n",
       "      <td>69</td>\n",
       "      <td>73.45999999999999</td>\n",
       "      <td>Basse-Allaine</td>\n",
       "      <td>2603</td>\n",
       "      <td>26</td>\n",
       "      <td>2569300</td>\n",
       "      <td>1258900</td>\n",
       "      <td>POLYGON ((2567009.521 1256868.290, 2566957.590...</td>\n",
       "      <td>NaN</td>\n",
       "    </tr>\n",
       "    <tr>\n",
       "      <th>2133</th>\n",
       "      <td>6808</td>\n",
       "      <td>Clos du Doubs</td>\n",
       "      <td>1096</td>\n",
       "      <td>338</td>\n",
       "      <td>30.84</td>\n",
       "      <td>329</td>\n",
       "      <td>270</td>\n",
       "      <td>59</td>\n",
       "      <td>82.06999999999999</td>\n",
       "      <td>Clos du Doubs</td>\n",
       "      <td>2603</td>\n",
       "      <td>26</td>\n",
       "      <td>2579100</td>\n",
       "      <td>1246300</td>\n",
       "      <td>POLYGON ((2569410.484 1246416.863, 2571130.000...</td>\n",
       "      <td>1.0</td>\n",
       "    </tr>\n",
       "    <tr>\n",
       "      <th>2134</th>\n",
       "      <td>6809</td>\n",
       "      <td>Haute-Ajoie</td>\n",
       "      <td>983</td>\n",
       "      <td>318</td>\n",
       "      <td>32.35</td>\n",
       "      <td>314</td>\n",
       "      <td>224</td>\n",
       "      <td>90</td>\n",
       "      <td>71.34</td>\n",
       "      <td>Haute-Ajoie</td>\n",
       "      <td>2603</td>\n",
       "      <td>26</td>\n",
       "      <td>2567000</td>\n",
       "      <td>1249100</td>\n",
       "      <td>POLYGON ((2559718.024 1248149.921, 2560200.000...</td>\n",
       "      <td>NaN</td>\n",
       "    </tr>\n",
       "    <tr>\n",
       "      <th>2135</th>\n",
       "      <td>6810</td>\n",
       "      <td>La Baroche</td>\n",
       "      <td>942</td>\n",
       "      <td>288</td>\n",
       "      <td>30.57</td>\n",
       "      <td>284</td>\n",
       "      <td>221</td>\n",
       "      <td>63</td>\n",
       "      <td>77.81999999999999</td>\n",
       "      <td>La Baroche</td>\n",
       "      <td>2603</td>\n",
       "      <td>26</td>\n",
       "      <td>2582400</td>\n",
       "      <td>1252500</td>\n",
       "      <td>POLYGON ((2584700.000 1251153.000, 2583718.000...</td>\n",
       "      <td>2.0</td>\n",
       "    </tr>\n",
       "  </tbody>\n",
       "</table>\n",
       "<p>2136 rows × 16 columns</p>\n",
       "</div>"
      ],
      "text/plain": [
       "      GMDNR           GMDNAME_x Stimmberechtigte Abgegebene Stimmen  \\\n",
       "0         1     Aeugst am Albis             1402                664   \n",
       "1         2  Affoltern am Albis             7186               2880   \n",
       "2         3          Bonstetten             3656               1701   \n",
       "3         4     Hausen am Albis             2505               1145   \n",
       "4         5            Hedingen             2515               1183   \n",
       "...     ...                 ...              ...                ...   \n",
       "2131   6806        Vendlincourt              472                139   \n",
       "2132   6807       Basse-Allaine              951                264   \n",
       "2133   6808       Clos du Doubs             1096                338   \n",
       "2134   6809         Haute-Ajoie              983                318   \n",
       "2135   6810          La Baroche              942                288   \n",
       "\n",
       "     Beteiligung in % Gültige Stimmzettel    Ja Nein            Ja in %  \\\n",
       "0               47.36                 663   481  182              72.55   \n",
       "1               40.08                2850  2079  771              72.95   \n",
       "2               46.53                1691  1251  440              73.98   \n",
       "3               45.71                1132   802  330  70.84999999999999   \n",
       "4               47.04                1178   876  302              74.36   \n",
       "...               ...                 ...   ...  ...                ...   \n",
       "2131            29.45                 134    97   37              72.39   \n",
       "2132            27.76                 260   191   69  73.45999999999999   \n",
       "2133            30.84                 329   270   59  82.06999999999999   \n",
       "2134            32.35                 314   224   90              71.34   \n",
       "2135            30.57                 284   221   63  77.81999999999999   \n",
       "\n",
       "               GMDNAME_y  BZNR  KTNR   E_CNTR   N_CNTR  \\\n",
       "0        Aeugst am Albis   101     1  2679300  1235700   \n",
       "1     Affoltern am Albis   101     1  2676800  1236800   \n",
       "2             Bonstetten   101     1  2677800  1241000   \n",
       "3        Hausen am Albis   101     1  2682900  1233100   \n",
       "4               Hedingen   101     1  2676400  1239000   \n",
       "...                  ...   ...   ...      ...      ...   \n",
       "2131        Vendlincourt  2603    26  2578200  1255600   \n",
       "2132       Basse-Allaine  2603    26  2569300  1258900   \n",
       "2133       Clos du Doubs  2603    26  2579100  1246300   \n",
       "2134         Haute-Ajoie  2603    26  2567000  1249100   \n",
       "2135          La Baroche  2603    26  2582400  1252500   \n",
       "\n",
       "                                               geometry  Acc_Count  \n",
       "0     POLYGON ((2678219.000 1235219.000, 2678439.000...        2.0  \n",
       "1     POLYGON ((2678219.000 1235219.000, 2677940.000...       36.0  \n",
       "2     POLYGON ((2675803.000 1241039.000, 2675748.000...       11.0  \n",
       "3     POLYGON ((2686324.000 1230388.000, 2686024.000...       11.0  \n",
       "4     POLYGON ((2675803.000 1241039.000, 2676538.000...        5.0  \n",
       "...                                                 ...        ...  \n",
       "2131  POLYGON ((2580412.000 1257077.000, 2580367.000...        1.0  \n",
       "2132  POLYGON ((2567009.521 1256868.290, 2566957.590...        NaN  \n",
       "2133  POLYGON ((2569410.484 1246416.863, 2571130.000...        1.0  \n",
       "2134  POLYGON ((2559718.024 1248149.921, 2560200.000...        NaN  \n",
       "2135  POLYGON ((2584700.000 1251153.000, 2583718.000...        2.0  \n",
       "\n",
       "[2136 rows x 16 columns]"
      ]
     },
     "execution_count": 34,
     "metadata": {},
     "output_type": "execute_result"
    }
   ],
   "source": [
    "small_poly"
   ]
  },
  {
   "cell_type": "code",
   "execution_count": 148,
   "metadata": {},
   "outputs": [],
   "source": [
    "for idx, point in small_point.geometry.items():\n",
    "    # loop through the small_poly GeoDataFrame with index and polygon\n",
    "    for poly_idx, poly in small_poly.geometry.items():\n",
    "        # check if the point is within the polygon\n",
    "        if point.within(poly):\n",
    "            # increment the count of points for the polygon\n",
    "            print(point, poly_idx)\n",
    "            small_poly.at[poly_idx, 'Acc_Count'] += 1\n",
    "        else:\n",
    "            pass"
   ]
  },
  {
   "cell_type": "code",
   "execution_count": 117,
   "metadata": {},
   "outputs": [
    {
     "name": "stderr",
     "output_type": "stream",
     "text": [
      "/Users/Dario/opt/anaconda3/envs/GTA22/lib/python3.9/site-packages/IPython/core/interactiveshell.py:3472: FutureWarning: The `op` parameter is deprecated and will be removed in a future release. Please use the `predicate` parameter instead.\n",
      "  if (await self.run_code(code, result,  async_=asy)):\n"
     ]
    }
   ],
   "source": [
    "joined = gpd.sjoin(small_poly, small_point, op='contains')\n",
    "\n",
    "# group the resulting GeoDataFrame by the polygons and count the number of points\n",
    "counts = joined.groupby('GMDNR').size().reset_index(name='Acc_Count')\n",
    "\n",
    "# merge the counts back to the small_poly GeoDataFrame\n",
    "small_poly = small_poly.merge(counts, on='GMDNR', how='left')"
   ]
  },
  {
   "cell_type": "code",
   "execution_count": null,
   "metadata": {},
   "outputs": [],
   "source": []
  }
 ],
 "metadata": {
  "kernelspec": {
   "display_name": "GTA22",
   "language": "python",
   "name": "python3"
  },
  "language_info": {
   "codemirror_mode": {
    "name": "ipython",
    "version": 3
   },
   "file_extension": ".py",
   "mimetype": "text/x-python",
   "name": "python",
   "nbconvert_exporter": "python",
   "pygments_lexer": "ipython3",
   "version": "3.9.13"
  },
  "orig_nbformat": 4,
  "vscode": {
   "interpreter": {
    "hash": "995ae4e88bab58009143627a0da8a0a090d24bba7fd68cd4076ee64e587ede57"
   }
  }
 },
 "nbformat": 4,
 "nbformat_minor": 2
}
