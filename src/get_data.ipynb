{
 "cells": [
  {
   "cell_type": "code",
   "execution_count": 1,
   "metadata": {},
   "outputs": [],
   "source": [
    "import pandas as pd\n",
    "import geopandas as gpd\n",
    "import os"
   ]
  },
  {
   "cell_type": "code",
   "execution_count": 9,
   "metadata": {},
   "outputs": [],
   "source": [
    "## BFS\n",
    "\n",
    "bfs = gpd.read_file('../data/shp_bfs/g1g23.shp', geometry='geometry', srs='epsg:2056')\n",
    "keep_cols=['GMDNR', 'GMDNAME', 'BZNR', 'KTNR', 'geometry']\n",
    "bfs = bfs.drop(columns=[col for col in bfs.columns if col not in keep_cols])"
   ]
  },
  {
   "cell_type": "code",
   "execution_count": 85,
   "metadata": {},
   "outputs": [],
   "source": [
    "## Results \n",
    "\n",
    "results = pd.read_excel('../data/Results/Resultate.xlsx', sheet_name='data', header=0)\n",
    "results = results.dropna(axis=0)\n",
    "df = results.loc[~results['GMDNAME'].str.startswith('>>')]\n",
    "df = df.loc[~df['GMDNAME'].str.startswith('-')]\n",
    "df['GMDNAME'] = df['GMDNAME'].str[6:]\n",
    "df = df.drop(index=0)\n",
    "df['GMDNR'] = df['GMDNR'].astype(int)"
   ]
  },
  {
   "cell_type": "code",
   "execution_count": 95,
   "metadata": {},
   "outputs": [],
   "source": [
    "## Function\n",
    "\n",
    "import pandas as pd\n",
    "import geopandas as gpd\n",
    "import os\n",
    "\n",
    "\n",
    "def get_bfs():\n",
    "    bfs = gpd.read_file('../data/shp_bfs/g1g23.shp',\n",
    "                        geometry='geometry', srs='epsg:2056')\n",
    "    keep_cols = ['GMDNR', 'GMDNAME', 'BZNR', 'KTNR', 'geometry']\n",
    "    bfs = bfs.drop(\n",
    "        columns=[col for col in bfs.columns if col not in keep_cols])\n",
    "\n",
    "    return bfs\n",
    "\n",
    "\n",
    "def get_results():\n",
    "    results = pd.read_excel('../data/Results/Resultate.xlsx',\n",
    "                            sheet_name='data', header=0)\n",
    "    results = results.dropna(axis=0)\n",
    "\n",
    "    df = results.loc[~results['GMDNAME'].str.startswith('>>')]\n",
    "    df = df.loc[~df['GMDNAME'].str.startswith('-')]\n",
    "    df['GMDNAME'] = df['GMDNAME'].str[6:]\n",
    "    df = df.drop(index=0)\n",
    "    df['GMDNR'] = df['GMDNR'].astype(int)\n",
    "\n",
    "    return df\n",
    "\n",
    "\n",
    "def export_df():\n",
    "    get_bfs().to_csv('../export/results/bfs_data.csv', sep=';', index=False)\n",
    "    get_results().to_csv('../export/results/results.csv', sep=';', index=False)\n"
   ]
  }
 ],
 "metadata": {
  "kernelspec": {
   "display_name": "GTA22",
   "language": "python",
   "name": "python3"
  },
  "language_info": {
   "codemirror_mode": {
    "name": "ipython",
    "version": 3
   },
   "file_extension": ".py",
   "mimetype": "text/x-python",
   "name": "python",
   "nbconvert_exporter": "python",
   "pygments_lexer": "ipython3",
   "version": "3.9.13"
  },
  "orig_nbformat": 4,
  "vscode": {
   "interpreter": {
    "hash": "995ae4e88bab58009143627a0da8a0a090d24bba7fd68cd4076ee64e587ede57"
   }
  }
 },
 "nbformat": 4,
 "nbformat_minor": 2
}
