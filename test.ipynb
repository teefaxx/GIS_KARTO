{
 "cells": [
  {
   "cell_type": "code",
   "execution_count": 11,
   "metadata": {},
   "outputs": [],
   "source": [
    "import pandas as pd\n",
    "import geopandas as gpd\n",
    "import os\n",
    "\n",
    "\n",
    "def get_bfs():\n",
    "    # Reads in the BFS Shapefile and keeps the needed columns\n",
    "    bfs = gpd.read_file('data/shp_bfs/g1g23.shp',\n",
    "                        geometry='geometry', srs='epsg:2056')\n",
    "    keep_cols = ['GMDNR', 'GMDNAME', 'BZNR',\n",
    "                 'KTNR', 'E_CNTR', 'N_CNTR', 'geometry']\n",
    "    bfs = bfs.drop(\n",
    "        columns=[col for col in bfs.columns if col not in keep_cols])\n",
    "\n",
    "    return bfs\n",
    "\n",
    "\n",
    "def get_results():\n",
    "    # Reads in the Results of the vote\n",
    "    results = pd.read_excel('data/Results/Resultate.xlsx',\n",
    "                            sheet_name='data', header=0)\n",
    "    results = results.dropna(axis=0)\n",
    "\n",
    "    df = results.loc[~results['GMDNAME'].str.startswith('>>')]\n",
    "    df = df.loc[~df['GMDNAME'].str.startswith('-')]\n",
    "    df['GMDNAME'] = df['GMDNAME'].str[6:]\n",
    "    df = df.drop(index=0)\n",
    "    df['GMDNR'] = df['GMDNR'].astype(int)\n",
    "\n",
    "    df_out = gpd.GeoDataFrame(df)\n",
    "\n",
    "    return df_out\n",
    "\n",
    "\n",
    "def export_df():\n",
    "    # Exports the dataframes separately to csv\n",
    "    get_bfs().to_csv('export/results/bfs_data.csv', sep=';', index=False)\n",
    "    get_results().to_csv('export/results/results.csv', sep=';', index=False)\n",
    "\n",
    "    return print('Dateframes (bfs and results) created and exported...')\n",
    "\n",
    "\n",
    "def export_merged_df(df_in):\n",
    "    #df_in.to_csv('data.csv', index=False)\n",
    "    df_in.to_file('export/master.geojson', driver='GeoJSON')\n",
    "    return print('Dataframes (merged) exported...')\n",
    "\n",
    "\n",
    "def merge_data(bfs, results):\n",
    "    #bfs = pd.read_csv('export/results/bfs_data.csv', sep=';')\n",
    "    #results = pd.read_csv('export/results/results.csv', sep=';')\n",
    "    merged_df = pd.merge(results, bfs, on=['GMDNR'])\n",
    "\n",
    "    return merged_df\n",
    "\n"
   ]
  },
  {
   "cell_type": "code",
   "execution_count": 14,
   "metadata": {},
   "outputs": [
    {
     "data": {
      "text/plain": [
       "geopandas.geodataframe.GeoDataFrame"
      ]
     },
     "execution_count": 14,
     "metadata": {},
     "output_type": "execute_result"
    }
   ],
   "source": [
    "type(get_bfs())"
   ]
  },
  {
   "cell_type": "code",
   "execution_count": null,
   "metadata": {},
   "outputs": [],
   "source": []
  }
 ],
 "metadata": {
  "kernelspec": {
   "display_name": "GTA22",
   "language": "python",
   "name": "python3"
  },
  "language_info": {
   "codemirror_mode": {
    "name": "ipython",
    "version": 3
   },
   "file_extension": ".py",
   "mimetype": "text/x-python",
   "name": "python",
   "nbconvert_exporter": "python",
   "pygments_lexer": "ipython3",
   "version": "3.9.13"
  },
  "orig_nbformat": 4,
  "vscode": {
   "interpreter": {
    "hash": "995ae4e88bab58009143627a0da8a0a090d24bba7fd68cd4076ee64e587ede57"
   }
  }
 },
 "nbformat": 4,
 "nbformat_minor": 2
}
